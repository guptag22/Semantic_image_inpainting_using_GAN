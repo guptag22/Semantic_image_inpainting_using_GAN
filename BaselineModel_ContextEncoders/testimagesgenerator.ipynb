{
 "cells": [
  {
   "cell_type": "code",
   "execution_count": 154,
   "metadata": {},
   "outputs": [],
   "source": [
    "import cv2\n",
    "import matplotlib.pyplot as plt\n",
    "\n",
    "import torchvision.datasets as dset\n",
    "import utils\n",
    "import torchvision.transforms as transforms\n",
    "import numpy as np"
   ]
  },
  {
   "cell_type": "code",
   "execution_count": null,
   "metadata": {},
   "outputs": [],
   "source": []
  },
  {
   "cell_type": "code",
   "execution_count": 155,
   "metadata": {},
   "outputs": [],
   "source": [
    "imbefore = utils.load_image(\"result/test/cropped/000004.jpg\", 128)\n",
    "imbefore.save(\"testimage.png\")"
   ]
  },
  {
   "cell_type": "code",
   "execution_count": 156,
   "metadata": {},
   "outputs": [],
   "source": [
    "img = cv2.imread(\"testimage.png\")\n",
    "mask = cv2.imread(\"mask.png\")"
   ]
  },
  {
   "cell_type": "code",
   "execution_count": 157,
   "metadata": {},
   "outputs": [
    {
     "data": {
      "text/plain": [
       "array([[[ 41,  48,  57],\n",
       "        [103, 109, 117],\n",
       "        [ 81,  87,  93],\n",
       "        ...,\n",
       "        [  8,   8,   8],\n",
       "        [  9,   7,   7],\n",
       "        [ 10,   5,   6]],\n",
       "\n",
       "       [[  0,   5,  14],\n",
       "        [103, 109, 117],\n",
       "        [ 47,  53,  60],\n",
       "        ...,\n",
       "        [  8,   9,   9],\n",
       "        [  8,   7,   7],\n",
       "        [  4,   2,   2]],\n",
       "\n",
       "       [[ 15,  22,  31],\n",
       "        [ 31,  37,  45],\n",
       "        [ 20,  25,  32],\n",
       "        ...,\n",
       "        [  3,   3,   3],\n",
       "        [  5,   3,   3],\n",
       "        [  7,   4,   4]],\n",
       "\n",
       "       ...,\n",
       "\n",
       "       [[  8,  12,  17],\n",
       "        [  8,  13,  17],\n",
       "        [ 12,  17,  20],\n",
       "        ...,\n",
       "        [ 70,  74,  75],\n",
       "        [ 17,  22,  22],\n",
       "        [ 19,  24,  23]],\n",
       "\n",
       "       [[ 10,  14,  19],\n",
       "        [ 16,  20,  24],\n",
       "        [ 12,  17,  20],\n",
       "        ...,\n",
       "        [ 83,  87,  89],\n",
       "        [ 24,  28,  28],\n",
       "        [ 18,  23,  22]],\n",
       "\n",
       "       [[ 61,  64,  69],\n",
       "        [  8,  12,  15],\n",
       "        [ 15,  20,  23],\n",
       "        ...,\n",
       "        [ 90,  94,  95],\n",
       "        [ 41,  45,  45],\n",
       "        [ 22,  27,  26]]], dtype=uint8)"
      ]
     },
     "execution_count": 157,
     "metadata": {},
     "output_type": "execute_result"
    }
   ],
   "source": [
    "img"
   ]
  },
  {
   "cell_type": "code",
   "execution_count": 158,
   "metadata": {},
   "outputs": [
    {
     "data": {
      "text/plain": [
       "(128, 128, 3)"
      ]
     },
     "execution_count": 158,
     "metadata": {},
     "output_type": "execute_result"
    }
   ],
   "source": [
    "dst = np.zeros([128,128,3])\n",
    "dst.shape"
   ]
  },
  {
   "cell_type": "code",
   "execution_count": 159,
   "metadata": {},
   "outputs": [],
   "source": [
    "croppedimage = \"croppedpart.png\"\n",
    "maskedimage = \"maskedimage.png\""
   ]
  },
  {
   "cell_type": "code",
   "execution_count": 160,
   "metadata": {},
   "outputs": [],
   "source": [
    "for i in range(128):\n",
    "    for j in range(128):\n",
    "        if mask[i][j][0] == 255:\n",
    "            img[i][j][0] = 0\n",
    "            img[i][j][1] = 0\n",
    "            img[i][j][2] = 0\n",
    "            \n",
    "            \n",
    "    "
   ]
  },
  {
   "cell_type": "code",
   "execution_count": 161,
   "metadata": {},
   "outputs": [
    {
     "data": {
      "text/plain": [
       "array([0., 0., 0.])"
      ]
     },
     "execution_count": 161,
     "metadata": {},
     "output_type": "execute_result"
    }
   ],
   "source": [
    "dst[0][0]\n"
   ]
  },
  {
   "cell_type": "code",
   "execution_count": 164,
   "metadata": {},
   "outputs": [
    {
     "data": {
      "text/plain": [
       "-1"
      ]
     },
     "execution_count": 164,
     "metadata": {},
     "output_type": "execute_result"
    }
   ],
   "source": [
    "cv2.imshow('Original Image', img) \n",
    "\n",
    "cv2.waitKey(0)"
   ]
  },
  {
   "cell_type": "code",
   "execution_count": 165,
   "metadata": {},
   "outputs": [
    {
     "data": {
      "text/plain": [
       "True"
      ]
     },
     "execution_count": 165,
     "metadata": {},
     "output_type": "execute_result"
    }
   ],
   "source": [
    "cv2.imwrite(maskedimage,img)"
   ]
  },
  {
   "cell_type": "code",
   "execution_count": null,
   "metadata": {},
   "outputs": [],
   "source": []
  }
 ],
 "metadata": {
  "kernelspec": {
   "display_name": "Python 3",
   "language": "python",
   "name": "python3"
  },
  "language_info": {
   "codemirror_mode": {
    "name": "ipython",
    "version": 3
   },
   "file_extension": ".py",
   "mimetype": "text/x-python",
   "name": "python",
   "nbconvert_exporter": "python",
   "pygments_lexer": "ipython3",
   "version": "3.7.4"
  }
 },
 "nbformat": 4,
 "nbformat_minor": 4
}
